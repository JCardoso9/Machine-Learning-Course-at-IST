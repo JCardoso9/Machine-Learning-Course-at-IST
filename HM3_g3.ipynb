{
  "nbformat": 4,
  "nbformat_minor": 0,
  "metadata": {
    "colab": {
      "name": "HM3_g3.ipynb",
      "version": "0.3.2",
      "provenance": [],
      "collapsed_sections": []
    },
    "language_info": {
      "codemirror_mode": {
        "name": "ipython",
        "version": 3
      },
      "file_extension": ".py",
      "mimetype": "text/x-python",
      "name": "python",
      "nbconvert_exporter": "python",
      "pygments_lexer": "ipython3",
      "version": "3.7.1"
    },
    "kernelspec": {
      "display_name": "Python 3",
      "language": "python",
      "name": "python3"
    }
  },
  "cells": [
    {
      "metadata": {
        "id": "bm0F09qa-Qqc",
        "colab_type": "text"
      },
      "cell_type": "markdown",
      "source": [
        "#Exercise 1"
      ]
    },
    {
      "metadata": {
        "id": "TsyY5a_U-ehd",
        "colab_type": "code",
        "colab": {}
      },
      "cell_type": "code",
      "source": [
        "import numpy as np\n",
        "import matplotlib\n",
        "import matplotlib.pyplot as plt\n",
        "from sklearn import datasets\n",
        "from sklearn.model_selection import train_test_split"
      ],
      "execution_count": 0,
      "outputs": []
    },
    {
      "metadata": {
        "id": "_lhOVBZ9-A_Y",
        "colab_type": "code",
        "outputId": "a174ad99-494f-4391-9aa6-ea4511327dbc",
        "colab": {
          "base_uri": "https://localhost:8080/",
          "height": 283
        }
      },
      "cell_type": "code",
      "source": [
        "iris = datasets.load_iris()\n",
        "X=iris.data[:,:2] #we only take the first two features. 150 observations\n",
        "y=(iris[\"target\"]==2).astype(np.int) #1 if Iris-Virginica, else 0\n",
        "X_train, X_test, y_train, y_test = train_test_split(X, y, test_size=0.3, random_state=42)\n",
        "\n",
        "plt.scatter(X[:100,0], X[:100,1], color=\"red\", marker='o', label='Not-Virginica')\n",
        "plt.scatter(X[100:150,0], X[100:150,1], color=\"blue\", marker='x', label='Virginica')\n",
        "plt.xlabel(\"Feature 1\")\n",
        "plt.ylabel(\"Feature 2\")\n",
        "plt.legend(loc='upper right')\n",
        "plt.show()"
      ],
      "execution_count": 3,
      "outputs": [
        {
          "output_type": "display_data",
          "data": {
            "image/png": "[encoded data removed]",
            "text/plain": [
              "<Figure size 432x288 with 1 Axes>"
            ]
          },
          "metadata": {
            "tags": []
          }
        }
      ]
    },
    {
      "metadata": {
        "id": "lZD2ch2N-ks4",
        "colab_type": "text"
      },
      "cell_type": "markdown",
      "source": [
        "## 1.1 "
      ]
    },
    {
      "metadata": {
        "id": "Wmp8IV2g_tdL",
        "colab_type": "code",
        "colab": {}
      },
      "cell_type": "code",
      "source": [
        "def calculateAccuracy(yTrue, yPredict):\n",
        "    size = len(yTrue)\n",
        "    matches = 0\n",
        "    for i in range(size):\n",
        "        if (yTrue[i] == yPredict[i]):\n",
        "            matches += 1\n",
        "    return matches/size"
      ],
      "execution_count": 0,
      "outputs": []
    },
    {
      "metadata": {
        "id": "fUdMOeSU-A_7",
        "colab_type": "code",
        "colab": {}
      },
      "cell_type": "code",
      "source": [
        "def plot_error(errorAverage, errorLabel):\n",
        "    chartX = np.arange(100)\n",
        "    plt.figure()\n",
        "    plt.plot(chartX,errorAverage[:100], label=errorLabel)\n",
        "    plt.grid()"
      ],
      "execution_count": 0,
      "outputs": []
    },
    {
      "metadata": {
        "id": "5Hwqlopz-plS",
        "colab_type": "text"
      },
      "cell_type": "markdown",
      "source": [
        "### Linear Unit with quadratic error as loss function"
      ]
    },
    {
      "metadata": {
        "id": "FJuB056Z-A_j",
        "colab_type": "code",
        "outputId": "07aaf13c-fd3d-4a7e-f72d-588232c034d8",
        "colab": {
          "base_uri": "https://localhost:8080/",
          "height": 932
        }
      },
      "cell_type": "code",
      "source": [
        "#### Activation function ####\n",
        "def linear(w,X):\n",
        "    return w@X\n",
        "\n",
        "#### Classification ####\n",
        "def classify(w,X):\n",
        "    yPredicted = []\n",
        "    print(linear(w,X))\n",
        "    print(\"\\n\")\n",
        "    for i in range(0,X.shape[1]):\n",
        "        x = X[:,i]\n",
        "        lin = linear(w,x)\n",
        "        if (lin > 0):\n",
        "            yPredicted.append(1)\n",
        "        else:\n",
        "            yPredicted.append(0)\n",
        "    return yPredicted\n",
        "\n",
        "#### Training ####\n",
        "errAvg = []\n",
        "Xb = np.c_[X_train,np.ones(X_train.shape[0])].T\n",
        "w = [-10,-10,-10]\n",
        "for i in range(0,10000):\n",
        "    d = np.zeros((1,3))\n",
        "    err = 0\n",
        "    for j in range(0,X_train.shape[0]):    \n",
        "        x = Xb[:,j]\n",
        "        target = y_train[j]\n",
        "        lin = linear(w,x)\n",
        "        err += (target - lin)\n",
        "        d = d + 2*(target - lin) * x\n",
        "    errAvg.append(abs(err/X_train.shape[0]))\n",
        "    w = w + 0.0001 * d\n",
        "print(w)\n",
        "\n",
        "#### Results ####\n",
        "plot_error(errAvg, \"Error\")\n",
        "yPred = classify(w,Xb)\n",
        "print(\"Training accuracy:\")\n",
        "print(str(calculateAccuracy(y_train,yPred)*100) + \"%\")\n",
        "print(\"\\n\")\n",
        "XTestB = np.c_[X_test,np.ones(X_test.shape[0])].T\n",
        "yTestPred = classify(w,XTestB)\n",
        "print(\"Test accuracy:\")\n",
        "print(str(calculateAccuracy(y_test, yTestPred)*100) + \"%\")\n",
        "print(\"\\n\")"
      ],
      "execution_count": 6,
      "outputs": [
        {
          "output_type": "stream",
          "text": [
            "[[ 0.43318311  0.11779719 -2.54060047]]\n",
            "[[ 0.12461986  0.51828522  0.59694268  0.67179958  1.00238776  0.27015507\n",
            "   1.10498269  0.23861648  0.08092352  1.12474156  0.28991394  0.11246211\n",
            "   0.03760521  0.11626267 -0.13909057  0.5065055  -0.06081113 -0.02129338\n",
            "   0.05736408  0.20327732  0.0691438   0.28193479  1.24253875 -0.17100719\n",
            "   0.48674662  0.2230362   0.33665479  0.41188972  0.28991394  0.31765197\n",
            "   0.15197986  0.54564522  0.11284014  0.25799732 -0.10375141  0.54982381\n",
            "   0.01404577  0.00226605  0.12461986  0.71511789 -0.05283198  0.30169366\n",
            "   0.02582549  0.03760521  0.39213085 -0.03687367  0.82531395  0.37655057\n",
            "   0.40808916  1.148301    0.13639958 -0.29298297 -0.32452156  0.31765197\n",
            "   0.95526888 -0.18278691  0.08092352 -0.28120325  0.48294606  0.58896353\n",
            "  -0.14744775  0.75843621  0.57718381 -0.12768888  0.44342831  0.60492184\n",
            "   0.4749669   0.86863226  0.6087224   0.11626267  0.81353423  0.36857141\n",
            "   0.62848127  0.23481591  0.03000408  0.45520803 -0.32034297  0.66001987\n",
            "   0.14817929  0.19111958  0.23861648  0.96324804  0.75045705  0.10448296\n",
            "  -0.13529001  0.75045705  0.93170945  0.00606662  0.72689761 -0.0646117\n",
            "   0.81353423  0.99478663  0.53006493  0.25837535  0.62848127  0.45938662\n",
            "   0.57338324  0.21505704  0.36857141  0.19909873  0.43164859 -0.12351029\n",
            "   0.44305029  0.27813423  0.88839114]]\n",
            "\n",
            "\n",
            "Training accuracy:\n",
            "49.523809523809526%\n",
            "\n",
            "\n",
            "[[ 0.43164859  0.37617254  1.10118213  0.40011     0.73487677  0.19909873\n",
            "   0.22683676  0.81353423  0.40428859  0.28991394  0.65204071 -0.10793001\n",
            "   0.25419676 -0.05283198  0.11626267  0.57718381  0.62848127  0.17971789\n",
            "   0.25837535  0.56160353 -0.12768888  0.45520803  0.02582549  0.56160353\n",
            "   1.32917537  0.71511789  0.6562193   0.78199564 -0.10793001 -0.09615029\n",
            "  -0.12388832  0.44685085  0.72689761 -0.06081113 -0.25764381  0.48294606\n",
            "   0.6087224   0.12424183  0.04938493  0.19492014  0.28991394  0.4590086\n",
            "   0.72689761  0.25799732  0.23443789]]\n",
            "\n",
            "\n",
            "Test accuracy:\n",
            "46.666666666666664%\n",
            "\n",
            "\n"
          ],
          "name": "stdout"
        },
        {
          "output_type": "display_data",
          "data": {
            "image/png": "[encoded data removed]",
            "text/plain": [
              "<Figure size 432x288 with 1 Axes>"
            ]
          },
          "metadata": {
            "tags": []
          }
        }
      ]
    },
    {
      "metadata": {
        "id": "9exfX31h-tZV",
        "colab_type": "text"
      },
      "cell_type": "markdown",
      "source": [
        "### Sigmoid unit with quadratic error as loss function"
      ]
    },
    {
      "metadata": {
        "id": "fQIkxWLe-A_p",
        "colab_type": "code",
        "colab": {
          "base_uri": "https://localhost:8080/",
          "height": 932
        },
        "outputId": "873ea78e-c3a0-48f2-f5f4-b447a009ed10"
      },
      "cell_type": "code",
      "source": [
        "#### Activation function ####\n",
        "def sigmoid(w, X):\n",
        "    return (1/(1+np.exp(-w@X)))\n",
        "\n",
        "#### Classification ####\n",
        "def classify(w,X):\n",
        "    yPredicted = []\n",
        "    print(sigmoid(w,X))\n",
        "    print(\"\\n\")\n",
        "    for i in range(0,X.shape[1]):\n",
        "        x = X[:,i]\n",
        "        sig = sigmoid(w,x)\n",
        "        if (sig >= 0.5):\n",
        "            yPredicted.append(1)\n",
        "        else:\n",
        "            yPredicted.append(0)\n",
        "    return yPredicted\n",
        "\n",
        "#### Training ####\n",
        "errAvg = []\n",
        "Xb = np.c_[X_train,np.ones(X_train.shape[0])].T\n",
        "w = np.zeros((1,3))\n",
        "for i in range(0,1000):\n",
        "    d = np.zeros((1,3))\n",
        "    err = 0\n",
        "    for j in range(0,X_train.shape[0]):    \n",
        "        x = Xb[:,j]\n",
        "        target = y_train[j]\n",
        "        sig = sigmoid(w,x)\n",
        "        err += (target-sig)\n",
        "        d = d + 2 * (target-sig) * sig * (1-sig) * x\n",
        "    errAvg.append(abs(err/X_train.shape[0])[0])\n",
        "    w = w + 0.001 * d\n",
        "\n",
        "#### Results ####\n",
        "plot_error(errAvg, \"Error\")\n",
        "print(w)\n",
        "yPred = classify(w,Xb)\n",
        "print(\"Training accuracy:\")\n",
        "print(str(calculateAccuracy(y_train,yPred)*100) + \"%\")\n",
        "print(\"\\n\")\n",
        "XTestB = np.c_[X_test,np.ones(X_test.shape[0])].T\n",
        "yTestPred = classify(w,XTestB)\n",
        "print(\"Test accuracy:\")\n",
        "print(str(calculateAccuracy(y_test, yTestPred)*100) + \"%\")\n",
        "print(\"\\n\")\n",
        "\n"
      ],
      "execution_count": 7,
      "outputs": [
        {
          "output_type": "stream",
          "text": [
            "[[ 0.85730855 -1.4771219  -1.13968171]]\n",
            "[[0.5076051  0.53131417 0.44226248 0.52178345 0.42930213 0.36896105\n",
            "  0.72000725 0.31645325 0.12594095 0.79012065 0.46119786 0.15395767\n",
            "  0.11680237 0.08467403 0.54800597 0.56786189 0.11437459 0.2167844\n",
            "  0.16220528 0.41897489 0.143119   0.3352825  0.46220495 0.12754382\n",
            "  0.47302067 0.51353975 0.06733307 0.39479607 0.46119786 0.68015874\n",
            "  0.28058105 0.30015011 0.54441634 0.09355414 0.43769568 0.58876538\n",
            "  0.15088954 0.17080553 0.5076051  0.54312257 0.17976393 0.42476723\n",
            "  0.1329235  0.11680237 0.30824192 0.38693533 0.51223685 0.50398503\n",
            "  0.56202475 0.73696017 0.47071121 0.16094986 0.13185904 0.68015874\n",
            "  0.57594518 0.14490425 0.12594095 0.14198626 0.63843023 0.31846125\n",
            "  0.09812119 0.56430458 0.35134322 0.13739207 0.4517127  0.57368025\n",
            "  0.50992119 0.5336212  0.40619996 0.08467403 0.54900948 0.37450762\n",
            "  0.50036454 0.47663205 0.3385178  0.41545359 0.33644577 0.55845675\n",
            "  0.43413459 0.11291581 0.31645325 0.69741474 0.43285389 0.09684704\n",
            "  0.3813169  0.43285389 0.64601636 0.09478952 0.50630158 0.2025818\n",
            "  0.54900948 0.74430398 0.49442739 0.40396665 0.50036454 0.70349189\n",
            "  0.51585455 0.38350557 0.37450762 0.17763842 0.48849181 0.34713093\n",
            "  0.11147329 0.49804774 0.62617527]]\n",
            "\n",
            "\n",
            "Training accuracy:\n",
            "70.47619047619048%\n",
            "\n",
            "\n",
            "[[0.48849181 0.13399523 0.83494363 0.4305803  0.63508053 0.17763842\n",
            "  0.34923413 0.54900948 0.71625557 0.46119786 0.42703315 0.18908503\n",
            "  0.16876416 0.17976393 0.08467403 0.35134322 0.50036454 0.49211101\n",
            "  0.40396665 0.55259266 0.13739207 0.41545359 0.1329235  0.55259266\n",
            "  0.50499798 0.54312257 0.71330309 0.49080762 0.18908503 0.16746811\n",
            "  0.07490324 0.05995354 0.50630158 0.11437459 0.10965068 0.63843023\n",
            "  0.40619996 0.13568469 0.10240552 0.06077497 0.46119786 0.26540841\n",
            "  0.50630158 0.09355414 0.12179224]]\n",
            "\n",
            "\n",
            "Test accuracy:\n",
            "82.22222222222221%\n",
            "\n",
            "\n"
          ],
          "name": "stdout"
        },
        {
          "output_type": "display_data",
          "data": {
            "image/png": "[encoded data removed]",
            "text/plain": [
              "<Figure size 432x288 with 1 Axes>"
            ]
          },
          "metadata": {
            "tags": []
          }
        }
      ]
    },
    {
      "metadata": {
        "id": "sswSlUcx_MoC",
        "colab_type": "text"
      },
      "cell_type": "markdown",
      "source": [
        "### Sigmoid unit with cross entropy as loss function"
      ]
    },
    {
      "metadata": {
        "id": "YRSt4ZPe-A_y",
        "colab_type": "code",
        "colab": {
          "base_uri": "https://localhost:8080/",
          "height": 864
        },
        "outputId": "d2e02eba-c1e3-465a-8118-624e8de0cd33"
      },
      "cell_type": "code",
      "source": [
        "#### Activation function ####\n",
        "def sigmoid(w, X):\n",
        "    return (1/(1+np.exp(-w@X)))\n",
        "\n",
        "#### Classification ####\n",
        "def classify(w,X):\n",
        "    yPredicted = []\n",
        "    print(sigmoid(w,X))\n",
        "    for i in range(0,X.shape[1]):\n",
        "        x = X[:,i]\n",
        "        sig = sigmoid(w,x)\n",
        "        if (sig >= 0.5):\n",
        "            yPredicted.append(1)\n",
        "        else:\n",
        "            yPredicted.append(0)\n",
        "    return yPredicted\n",
        "\n",
        "#### Training ####\n",
        "Xb = np.c_[X_train,np.ones(X_train.shape[0])].T\n",
        "w = np.zeros((1,3))\n",
        "errAvg = []\n",
        "for i in range(0,1000):\n",
        "    d = np.zeros((1,3))\n",
        "    err = 0\n",
        "    for j in range(0,X_train.shape[0]):\n",
        "        x = Xb[:,j]\n",
        "        target = y_train[j]\n",
        "        sig = sigmoid(w,x)\n",
        "        err += (target-sig)\n",
        "        d = d + (target-sig)*x\n",
        "    errAvg.append(abs(err/X_train.shape[0])[0])\n",
        "    w = w + 0.001 * d\n",
        "\n",
        "#### Results ####\n",
        "print(w)\n",
        "plot_error(errAvg, \"Error\")\n",
        "yPred = classify(w,Xb)\n",
        "print(\"Training accuracy:\")\n",
        "print(str(calculateAccuracy(y_train,yPred)*100) + \"%\")\n",
        "print(\"\\n\")\n",
        "XTestB = np.c_[X_test,np.ones(X_test.shape[0])].T\n",
        "yTestPred = classify(w,XTestB)\n",
        "print(\"Test accuracy:\")\n",
        "print(str(calculateAccuracy(y_test, yTestPred)*100) + \"%\")\n",
        "print(\"\\n\")"
      ],
      "execution_count": 8,
      "outputs": [
        {
          "output_type": "stream",
          "text": [
            "[[ 1.24997949 -1.9832632  -2.12717771]]\n",
            "[[0.49696948 0.54848618 0.43157577 0.54311697 0.43362583 0.32000302\n",
            "  0.80578901 0.25405858 0.06334592 0.87484868 0.44223228 0.08545949\n",
            "  0.05632191 0.03596149 0.53896914 0.59697639 0.05363781 0.1385877\n",
            "  0.0913675  0.3817556  0.07618289 0.27846586 0.49031726 0.06158845\n",
            "  0.46785237 0.50988555 0.0270671  0.35960237 0.44223228 0.73292624\n",
            "  0.2096431  0.24593714 0.54641699 0.04261436 0.39203037 0.62665199\n",
            "  0.08150674 0.09764033 0.49696948 0.57392791 0.1042944  0.39402279\n",
            "  0.06783857 0.05632191 0.24997587 0.32950155 0.53773772 0.50447202\n",
            "  0.58448511 0.82460657 0.44758119 0.08480899 0.06285217 0.73292624\n",
            "  0.62860394 0.07409744 0.06334592 0.07062963 0.68773149 0.26984644\n",
            "  0.04227491 0.60417536 0.31065144 0.06922108 0.43689675 0.60934314\n",
            "  0.51738253 0.5686233  0.38372876 0.03596149 0.58651205 0.33134938\n",
            "  0.51197255 0.46038845 0.27247628 0.38886339 0.25658864 0.59175462\n",
            "  0.39920593 0.05518175 0.25405858 0.77664298 0.42627055 0.04350681\n",
            "  0.31818836 0.42627055 0.71562958 0.04140664 0.52487169 0.12432806\n",
            "  0.58651205 0.8277171  0.49905745 0.36460516 0.51197255 0.76605854\n",
            "  0.53026987 0.33616544 0.33134938 0.1071314  0.4861436  0.27679086\n",
            "  0.05676746 0.49155555 0.68952232]]\n",
            "Training accuracy:\n",
            "72.38095238095238%\n",
            "\n",
            "\n",
            "[[0.4861436  0.07318966 0.91223061 0.40642502 0.69413993 0.1071314\n",
            "  0.29343566 0.58651205 0.77894279 0.44223228 0.41368478 0.11134597\n",
            "  0.1003166  0.1042944  0.03596149 0.31065144 0.51197255 0.47865034\n",
            "  0.36460516 0.57921557 0.06922108 0.38886339 0.06783857 0.57921557\n",
            "  0.55261946 0.57392791 0.78406709 0.50655976 0.11134597 0.09318159\n",
            "  0.02883183 0.02346152 0.52487169 0.05363781 0.04862779 0.68773149\n",
            "  0.38372876 0.07117984 0.04666252 0.02278368 0.44223228 0.20255593\n",
            "  0.52487169 0.04261436 0.06207292]]\n",
            "Test accuracy:\n",
            "84.44444444444444%\n",
            "\n",
            "\n"
          ],
          "name": "stdout"
        },
        {
          "output_type": "display_data",
          "data": {
            "image/png": "[encoded data removed]",
            "text/plain": [
              "<Figure size 432x288 with 1 Axes>"
            ]
          },
          "metadata": {
            "tags": []
          }
        }
      ]
    },
    {
      "metadata": {
        "id": "xCogHJYp_TDR",
        "colab_type": "text"
      },
      "cell_type": "markdown",
      "source": [
        "# Exercise 2\n",
        "\n"
      ]
    },
    {
      "metadata": {
        "id": "sEN7hvVkAkre",
        "colab_type": "code",
        "outputId": "e5c8673a-87f4-45a6-ffb6-54187ec3ed4f",
        "colab": {
          "base_uri": "https://localhost:8080/",
          "height": 35
        }
      },
      "cell_type": "code",
      "source": [
        "import keras as krs\n",
        "from keras.models import Sequential\n",
        "from keras.layers import Dense\n",
        "import matplotlib.pyplot as plt\n",
        "from keras.utils import plot_model\n",
        "from keras.utils import to_categorical\n",
        "import tensorflow as tf\n",
        "import pandas as pd\n",
        "from sklearn.model_selection import train_test_split\n",
        "from matplotlib.font_manager import FontProperties"
      ],
      "execution_count": 0,
      "outputs": [
        {
          "output_type": "stream",
          "text": [
            "Using TensorFlow backend.\n"
          ],
          "name": "stderr"
        }
      ]
    },
    {
      "metadata": {
        "id": "PS-iHDGW-BAB",
        "colab_type": "code",
        "outputId": "ed5540a2-79f7-4b7a-f5b7-f288a3c4cd31",
        "colab": {
          "base_uri": "https://localhost:8080/",
          "height": 35
        }
      },
      "cell_type": "code",
      "source": [
        "#1 hidden layer, sigmoid\n",
        "def preproccessData(dataset):\n",
        "    dataset = dataset.apply(lambda x: x.astype('category').cat.codes)\n",
        "    return dataset\n",
        "\n",
        "data = pd.read_csv('https://archive.ics.uci.edu/ml/machine-learning-databases/breast-cancer/breast-cancer.data')\n",
        "data.columns = [\"Class\", \"age\", \"menopause\", \"tumor-size\", \"inv-nodes\", \"node-caps\", \"deg-malig\", \"breast\", \"breast-quad\", \"irradiat\"]\n",
        "y = (data[\"Class\"]==\"recurrence-events\").astype(np.int).values\n",
        "X = preproccessData(data.iloc[:,1:]).values\n",
        "X_train, X_test, y_train, y_test = train_test_split(X, y, test_size=0.3, random_state=42)\n",
        "print(X_train.shape)\n",
        "\n",
        "    "
      ],
      "execution_count": 0,
      "outputs": [
        {
          "output_type": "stream",
          "text": [
            "(199, 9)\n"
          ],
          "name": "stdout"
        }
      ]
    },
    {
      "metadata": {
        "id": "XkB5Mpg8-BAI",
        "colab_type": "code",
        "outputId": "7033e40a-c00c-4cfa-e327-5a3f9c93e3db",
        "colab": {
          "base_uri": "https://localhost:8080/",
          "height": 771
        }
      },
      "cell_type": "code",
      "source": [
        "for act in ['sigmoid']:\n",
        "    for regularizer in [krs.regularizers.l2(0.05), krs.regularizers.l1(0.05)]:\n",
        "        model = Sequential()\n",
        "        model.add(Dense(units=1, activation=act, kernel_regularizer=regularizer, use_bias=False))\n",
        "        for losses in [\"mean_squared_error\", \"binary_crossentropy\"]:\n",
        "            model.compile(loss=losses,optimizer='adam')\n",
        "            history = model.fit(X_train, y_train, verbose=0, epochs=5000, batch_size=X_train.shape[0])\n",
        "            y_pred = model.predict(X_train)\n",
        "            plt.plot(history.history['loss'],label= losses + \" \" + (\"lasso\" if regularizer.l1 > 0 else \"ridge\"))\n",
        "            scoretrain = model.evaluate(X_train, y_train)\n",
        "            print(act + \" \" + losses + \"\\n\")\n",
        "            print(\"Train score: \")\n",
        "            print(scoretrain)\n",
        "            print(\"\\n\")\n",
        "            \n",
        "plt.title('Model loss')\n",
        "plt.ylabel('Loss')\n",
        "plt.xlabel('Epoch')\n",
        "plt.legend(loc='center right')\n",
        "plt.show()  "
      ],
      "execution_count": 0,
      "outputs": [
        {
          "output_type": "stream",
          "text": [
            "199/199 [==============================] - 2s 11ms/step\n",
            "sigmoid mean_squared_error\n",
            "\n",
            "Train score: \n",
            "0.1986122513236712\n",
            "\n",
            "\n",
            "199/199 [==============================] - 2s 12ms/step\n",
            "sigmoid binary_crossentropy\n",
            "\n",
            "Train score: \n",
            "0.5715730647046362\n",
            "\n",
            "\n",
            "199/199 [==============================] - 2s 11ms/step\n",
            "sigmoid mean_squared_error\n",
            "\n",
            "Train score: \n",
            "0.22128027303134976\n",
            "\n",
            "\n",
            "199/199 [==============================] - 2s 11ms/step\n",
            "sigmoid binary_crossentropy\n",
            "\n",
            "Train score: \n",
            "0.6114132700853012\n",
            "\n",
            "\n"
          ],
          "name": "stdout"
        },
        {
          "output_type": "display_data",
          "data": {
            "image/png": "[encoded data removed]",
            "text/plain": [
              "<Figure size 432x288 with 1 Axes>"
            ]
          },
          "metadata": {
            "tags": []
          }
        }
      ]
    },
    {
      "metadata": {
        "id": "Yl3CUSPv-BAR",
        "colab_type": "code",
        "outputId": "8e24e5af-381d-48e1-95b5-491e95800768",
        "colab": {
          "base_uri": "https://localhost:8080/",
          "height": 771
        }
      },
      "cell_type": "code",
      "source": [
        "for act in ['relu']:\n",
        "    for regularizer in [krs.regularizers.l2(0.05), krs.regularizers.l1(0.05)]:\n",
        "        model = Sequential()\n",
        "        model.add(Dense(units=1, activation=act, kernel_regularizer=regularizer, use_bias=False))\n",
        "        for losses in [\"mean_squared_error\", \"binary_crossentropy\"]:\n",
        "            model.compile(loss=losses,optimizer='adam')\n",
        "            history = model.fit(X_train, y_train, verbose=0, epochs=5000, batch_size=X_train.shape[0])\n",
        "            y_pred = model.predict(X_train)\n",
        "            plt.plot(history.history['loss'],label=losses + \" \" + (\"lasso\" if regularizer.l1 > 0 else \"ridge\"))\n",
        "            #plt.plot(history.history['acc'])\n",
        "            scoretrain = model.evaluate(X_train, y_train)\n",
        "            print(act + \" \" + losses + \"\\n\")\n",
        "            print(\"Train score: \")\n",
        "            print(scoretrain)\n",
        "            print(\"\\n\")\n",
        "            \n",
        "plt.title('Model loss')\n",
        "plt.ylabel('Loss')\n",
        "plt.xlabel('Epoch')\n",
        "plt.legend(loc='center right')\n",
        "plt.show()  "
      ],
      "execution_count": 0,
      "outputs": [
        {
          "output_type": "stream",
          "text": [
            "199/199 [==============================] - 2s 12ms/step\n",
            "relu mean_squared_error\n",
            "\n",
            "Train score: \n",
            "0.17422306672412546\n",
            "\n",
            "\n",
            "199/199 [==============================] - 2s 13ms/step\n",
            "relu binary_crossentropy\n",
            "\n",
            "Train score: \n",
            "0.5245269015805805\n",
            "\n",
            "\n",
            "199/199 [==============================] - 2s 13ms/step\n",
            "relu mean_squared_error\n",
            "\n",
            "Train score: \n",
            "0.18605214522112554\n",
            "\n",
            "\n",
            "199/199 [==============================] - 3s 13ms/step\n",
            "relu binary_crossentropy\n",
            "\n",
            "Train score: \n",
            "0.53594426294068\n",
            "\n",
            "\n"
          ],
          "name": "stdout"
        },
        {
          "output_type": "display_data",
          "data": {
            "image/png": "[encoded data removed]",
            "text/plain": [
              "<Figure size 432x288 with 1 Axes>"
            ]
          },
          "metadata": {
            "tags": []
          }
        }
      ]
    },
    {
      "metadata": {
        "id": "7_bUrFKA-BAW",
        "colab_type": "code",
        "outputId": "ca6c69ba-5d28-4ca7-ca82-e6597f526f12",
        "colab": {
          "base_uri": "https://localhost:8080/",
          "height": 771
        }
      },
      "cell_type": "code",
      "source": [
        "for regularizer in [krs.regularizers.l2(0.05), krs.regularizers.l1(0.05)]:\n",
        "        model = Sequential()\n",
        "        model.add(Dense(units=1, kernel_regularizer=regularizer, use_bias=False))\n",
        "        model.add(krs.layers.LeakyReLU(alpha=0.05))\n",
        "        for losses in [\"mean_squared_error\", \"binary_crossentropy\"]:\n",
        "            model.compile(loss=losses,optimizer='adam')\n",
        "            history = model.fit(X_train, y_train, verbose=0, epochs=5000, batch_size=X_train.shape[0])\n",
        "            y_pred = model.predict(X_train)\n",
        "            plt.plot(history.history['loss'],label=losses + \" \" + (\"lasso\" if regularizer.l1 > 0 else \"ridge\"))\n",
        "            scoretrain = model.evaluate(X_train, y_train)\n",
        "            print(\"LeakyReLU \" + losses + \"\\n\")\n",
        "            print(\"Train score: \")\n",
        "            print(scoretrain)\n",
        "            print(\"\\n\")\n",
        "\n",
        "plt.title('Model loss')\n",
        "plt.ylabel('Loss')\n",
        "plt.xlabel('Epoch')\n",
        "plt.legend(loc='center right')\n",
        "plt.show()  "
      ],
      "execution_count": 0,
      "outputs": [
        {
          "output_type": "stream",
          "text": [
            "199/199 [==============================] - 3s 16ms/step\n",
            "LeakyReLU mean_squared_error\n",
            "\n",
            "Train score: \n",
            "0.17422305953562559\n",
            "\n",
            "\n",
            "199/199 [==============================] - 3s 16ms/step\n",
            "LeakyReLU binary_crossentropy\n",
            "\n",
            "Train score: \n",
            "0.5245269204503927\n",
            "\n",
            "\n",
            "199/199 [==============================] - 3s 16ms/step\n",
            "LeakyReLU mean_squared_error\n",
            "\n",
            "Train score: \n",
            "0.1860645265884735\n",
            "\n",
            "\n",
            "199/199 [==============================] - 3s 16ms/step\n",
            "LeakyReLU binary_crossentropy\n",
            "\n",
            "Train score: \n",
            "0.535934495117197\n",
            "\n",
            "\n"
          ],
          "name": "stdout"
        },
        {
          "output_type": "display_data",
          "data": {
            "image/png": "[encoded data removed]",
            "text/plain": [
              "<Figure size 432x288 with 1 Axes>"
            ]
          },
          "metadata": {
            "tags": []
          }
        }
      ]
    },
    {
      "metadata": {
        "id": "U5f-QNrIg3rc",
        "colab_type": "code",
        "outputId": "952f3f2c-de34-41e3-c401-223157a2e059",
        "colab": {
          "base_uri": "https://localhost:8080/",
          "height": 495
        }
      },
      "cell_type": "code",
      "source": [
        "model = Sequential()\n",
        "model.add(Dense(units=1, activation='relu', kernel_regularizer=regularizer, use_bias=False))\n",
        "model.compile(loss='mean_squared_error',optimizer='adam', metrics=['accuracy'])\n",
        "history = model.fit(X_train, y_train, validation_data=(X_test, y_test), epochs=10000, batch_size=X_train.shape[0], verbose=0)\n",
        "scoretrain = model.evaluate(X_train, y_train)\n",
        "scoretest = model.evaluate(X_test, y_test)\n",
        "print(model.metrics_names)\n",
        "print(\"Train score: \")\n",
        "print(scoretrain)\n",
        "print(\"\\n\")\n",
        "print(\"Test score: \")\n",
        "print(scoretest)\n",
        "print(\"\\n\")\n",
        "plt.plot(history.history['acc'])\n",
        "plt.plot(history.history['val_acc'])\n",
        "plt.title('model accuracy')\n",
        "plt.ylabel('accuracy')\n",
        "plt.xlabel('epoch')\n",
        "plt.legend(['train', 'test'], loc='lower right')\n",
        "plt.show()"
      ],
      "execution_count": 0,
      "outputs": [
        {
          "output_type": "stream",
          "text": [
            "199/199 [==============================] - 0s 43us/step\n",
            "86/86 [==============================] - 0s 60us/step\n",
            "['loss', 'acc']\n",
            "Train score: \n",
            "[0.1743635647560484, 0.7437185935638658]\n",
            "\n",
            "\n",
            "Test score: \n",
            "[0.1959501951932907, 0.7325581339902656]\n",
            "\n",
            "\n"
          ],
          "name": "stdout"
        },
        {
          "output_type": "display_data",
          "data": {
            "image/png": "[encoded data removed]",
            "text/plain": [
              "<Figure size 432x288 with 1 Axes>"
            ]
          },
          "metadata": {
            "tags": []
          }
        }
      ]
    }
  ]
}